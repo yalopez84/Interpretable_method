{
  "nbformat": 4,
  "nbformat_minor": 0,
  "metadata": {
    "colab": {
      "name": "Training sbrt_test_mnr.ipynb",
      "provenance": [],
      "authorship_tag": "ABX9TyMdIbobztWbDh4MuvMDWaV0",
      "include_colab_link": true
    },
    "kernelspec": {
      "name": "python3",
      "display_name": "Python 3"
    },
    "language_info": {
      "name": "python"
    }
  },
  "cells": [
    {
      "cell_type": "markdown",
      "metadata": {
        "id": "view-in-github",
        "colab_type": "text"
      },
      "source": [
        "<a href=\"https://colab.research.google.com/github/yalopez84/Interpretable_method/blob/master/Training_sbrt_test_mnr.ipynb\" target=\"_parent\"><img src=\"https://colab.research.google.com/assets/colab-badge.svg\" alt=\"Open In Colab\"/></a>"
      ]
    },
    {
      "cell_type": "code",
      "execution_count": null,
      "metadata": {
        "id": "WnIo2hX-MjXb"
      },
      "outputs": [],
      "source": [
        "!pip install datasets\n",
        "!pip install sentence_transformers\n",
        "import os"
      ]
    },
    {
      "cell_type": "code",
      "source": [
        "from google.colab import drive\n",
        "drive.mount('/content/drive')"
      ],
      "metadata": {
        "id": "nGFUrF7Ze_Ix"
      },
      "execution_count": null,
      "outputs": []
    },
    {
      "cell_type": "code",
      "source": [
        "os.system(\"export PYTORCH_CUDA_ALLOC_CONF=max_split_size_mb:20\")"
      ],
      "metadata": {
        "id": "U7smHmO1fApE"
      },
      "execution_count": null,
      "outputs": []
    },
    {
      "cell_type": "code",
      "source": [
        "import datasets\n",
        "\n",
        "snli = datasets.load_dataset('snli', split='train')\n",
        "mnli = datasets.load_dataset('glue', 'mnli', split='train')\n",
        "\n",
        "mnli=mnli.remove_columns('idx')\n",
        "snli = snli.cast(mnli.features)\n",
        "dataset = datasets.concatenate_datasets([snli, mnli])\n",
        "del snli, mnli\n",
        "dataset = dataset.filter(\n",
        "    lambda x: True if x['label'] == 0 else False\n",
        ")"
      ],
      "metadata": {
        "id": "X7enJmotfCh6"
      },
      "execution_count": null,
      "outputs": []
    },
    {
      "cell_type": "code",
      "source": [
        "from sentence_transformers import InputExample\n",
        "from tqdm.auto import tqdm  \n",
        "train_samples = []\n",
        "for row in tqdm(dataset):\n",
        "    train_samples.append(InputExample(\n",
        "        texts=[row['preimse'], row['hypothesis']]\n",
        "    ))"
      ],
      "metadata": {
        "id": "vmWMF8f9fDna"
      },
      "execution_count": null,
      "outputs": []
    },
    {
      "cell_type": "code",
      "source": [
        "from sentence_transformers import datasets\n",
        "batch_size = 16\n",
        "loader = datasets.NoDuplicatesDataLoader(\n",
        "    train_samples, batch_size=batch_size)"
      ],
      "metadata": {
        "id": "KfLvLfEHfLmv"
      },
      "execution_count": null,
      "outputs": []
    },
    {
      "cell_type": "code",
      "source": [
        "from sentence_transformers import models, SentenceTransformer\n",
        "\n",
        "bert = models.Transformer('bert-base-uncased')\n",
        "pooler = models.Pooling(\n",
        "    bert.get_word_embedding_dimension(),\n",
        "    pooling_mode_mean_tokens=True\n",
        ")\n",
        "\n",
        "model = SentenceTransformer(modules=[bert, pooler])"
      ],
      "metadata": {
        "id": "pd_o7WmmfNrZ"
      },
      "execution_count": null,
      "outputs": []
    },
    {
      "cell_type": "code",
      "source": [
        "from sentence_transformers import losses\n",
        "loss = losses.MultipleNegativesRankingLoss(model)"
      ],
      "metadata": {
        "id": "rEFTZvuSfPlG"
      },
      "execution_count": null,
      "outputs": []
    },
    {
      "cell_type": "code",
      "source": [
        "epochs = 1\n",
        "warmup_steps = int(len(loader) * epochs * 0.1)\n",
        "\n",
        "model.fit(\n",
        "    train_objectives=[(loader, loss)],\n",
        "    epochs=epochs,\n",
        "    warmup_steps=warmup_steps,\n",
        "    output_path='/content/drive/MyDrive/Almacen_phd/FB13/sbert_test_mnr2',\n",
        "    show_progress_bar=True\n",
        ")  "
      ],
      "metadata": {
        "id": "D_psm6snfRSR"
      },
      "execution_count": null,
      "outputs": []
    }
  ]
}